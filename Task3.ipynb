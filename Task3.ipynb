{
 "cells": [
  {
   "cell_type": "code",
   "execution_count": 2,
   "id": "1aa214b7",
   "metadata": {},
   "outputs": [
    {
     "name": "stdout",
     "output_type": "stream",
     "text": [
      "Epoch 1/10\n",
      "600/600 [==============================] - 2s 2ms/step - loss: 0.6238 - accuracy: 0.8450\n",
      "Epoch 2/10\n",
      "600/600 [==============================] - 1s 2ms/step - loss: 0.3467 - accuracy: 0.9055\n",
      "Epoch 3/10\n",
      "600/600 [==============================] - 2s 4ms/step - loss: 0.3099 - accuracy: 0.9141\n",
      "Epoch 4/10\n",
      "600/600 [==============================] - 1s 2ms/step - loss: 0.2924 - accuracy: 0.9186\n",
      "Epoch 5/10\n",
      "600/600 [==============================] - 1s 2ms/step - loss: 0.2821 - accuracy: 0.9215\n",
      "Epoch 6/10\n",
      "600/600 [==============================] - 1s 2ms/step - loss: 0.2752 - accuracy: 0.9233\n",
      "Epoch 7/10\n",
      "600/600 [==============================] - 1s 2ms/step - loss: 0.2698 - accuracy: 0.9244\n",
      "Epoch 8/10\n",
      "600/600 [==============================] - 1s 2ms/step - loss: 0.2655 - accuracy: 0.9258\n",
      "Epoch 9/10\n",
      "600/600 [==============================] - 1s 2ms/step - loss: 0.2616 - accuracy: 0.9271\n",
      "Epoch 10/10\n",
      "600/600 [==============================] - 1s 2ms/step - loss: 0.2592 - accuracy: 0.9277\n",
      "313/313 [==============================] - 1s 1ms/step - loss: 0.2652 - accuracy: 0.9266\n",
      "Test Accuracy: 0.9265999794006348\n",
      "1/1 [==============================] - 0s 85ms/step\n",
      "Prediction: 7\n",
      "True Label: 7\n"
     ]
    },
    {
     "data": {
      "image/png": "[encoded data removed]",
      "text/plain": [
       "<Figure size 432x288 with 1 Axes>"
      ]
     },
     "metadata": {
      "needs_background": "light"
     },
     "output_type": "display_data"
    }
   ],
   "source": [
    "import numpy as np\n",
    "import matplotlib.pyplot as plt\n",
    "import tensorflow as tf\n",
    "from tensorflow.keras.datasets import mnist\n",
    "from tensorflow.keras.models import Sequential\n",
    "from tensorflow.keras.layers import Dense\n",
    "from tensorflow.keras.utils import to_categorical\n",
    "\n",
    "# Load the MNIST dataset\n",
    "(X_train, y_train), (X_test, y_test) = mnist.load_data()\n",
    "\n",
    "# Preprocess the data\n",
    "X_train = X_train.reshape((60000, 28 * 28)).astype('float32') / 255.0\n",
    "X_test = X_test.reshape((10000, 28 * 28)).astype('float32') / 255.0\n",
    "y_train = to_categorical(y_train)\n",
    "y_test = to_categorical(y_test)\n",
    "\n",
    "# Fitting linear classifier\n",
    "model = Sequential()\n",
    "model.add(Dense(10, activation='softmax', input_shape=(28 * 28,)))\n",
    "model.compile(optimizer='adam', loss='categorical_crossentropy', metrics=['accuracy'])\n",
    "model.fit(X_train, y_train, batch_size=100, epochs=10)\n",
    "\n",
    "# Evaluate accuracy\n",
    "test_loss, test_accuracy = model.evaluate(X_test, y_test)\n",
    "print(\"Test Accuracy:\", test_accuracy)\n",
    "\n",
    "# Make prediction\n",
    "prediction = model.predict(np.array([X_test[0]], dtype=float))\n",
    "predicted_label = np.argmax(prediction)\n",
    "\n",
    "print(\"Prediction:\", predicted_label)\n",
    "print(\"True Label:\", np.argmax(y_test[0]))\n",
    "\n",
    "# Display the image\n",
    "def display(i):\n",
    "    img = X_test[i].reshape((28, 28))\n",
    "    plt.title(f'True Label: {np.argmax(y_test[i])}, Predicted Label: {predicted_label}')\n",
    "    plt.imshow(img, cmap='gray')\n",
    "    plt.show()\n",
    "\n",
    "display(0)\n"
   ]
  },
  {
   "cell_type": "code",
   "execution_count": null,
   "id": "89794e92",
   "metadata": {},
   "outputs": [],
   "source": []
  }
 ],
 "metadata": {
  "kernelspec": {
   "display_name": "Python 3 (ipykernel)",
   "language": "python",
   "name": "python3"
  },
  "language_info": {
   "codemirror_mode": {
    "name": "ipython",
    "version": 3
   },
   "file_extension": ".py",
   "mimetype": "text/x-python",
   "name": "python",
   "nbconvert_exporter": "python",
   "pygments_lexer": "ipython3",
   "version": "3.9.12"
  }
 },
 "nbformat": 4,
 "nbformat_minor": 5
}
